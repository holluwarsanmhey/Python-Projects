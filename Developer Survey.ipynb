{
 "cells": [
  {
   "cell_type": "code",
   "execution_count": 2,
   "metadata": {},
   "outputs": [],
   "source": [
    "import pandas as pd\n",
    "import numpy as np\n",
    "import statistics\n",
    "import matplotlib\n",
    "from matplotlib import pyplot as plt\n",
    "plt.style.use('ggplot')\n",
    "import seaborn as sns"
   ]
  },
  {
   "cell_type": "raw",
   "metadata": {},
   "source": [
    "#Questions\n",
    "How many developers participated in this survey?\n",
    "Find the top 10 countries participating devs are from.\n",
    "How many are from Nigeria?\n",
    "What's the average age the Nigerian dev wrote their first code?\n",
    "What's the average age of the Nigerian dev?\n",
    "What are the kinds of employment they are in?\n",
    "What's the gender distribution?\n",
    "What majors did they study in school?\n",
    "What languages have they worked with?\n",
    "What's the average number of languages they have worked with?\n",
    "What's the average number of years of experience of the Nigerian developer?"
   ]
  },
  {
   "cell_type": "code",
   "execution_count": 3,
   "metadata": {},
   "outputs": [
    {
     "data": {
      "text/html": [
       "<div>\n",
       "<style scoped>\n",
       "    .dataframe tbody tr th:only-of-type {\n",
       "        vertical-align: middle;\n",
       "    }\n",
       "\n",
       "    .dataframe tbody tr th {\n",
       "        vertical-align: top;\n",
       "    }\n",
       "\n",
       "    .dataframe thead th {\n",
       "        text-align: right;\n",
       "    }\n",
       "</style>\n",
       "<table border=\"1\" class=\"dataframe\">\n",
       "  <thead>\n",
       "    <tr style=\"text-align: right;\">\n",
       "      <th></th>\n",
       "      <th>Respondent</th>\n",
       "      <th>MainBranch</th>\n",
       "      <th>Hobbyist</th>\n",
       "      <th>Age</th>\n",
       "      <th>Age1stCode</th>\n",
       "      <th>CompFreq</th>\n",
       "      <th>CompTotal</th>\n",
       "      <th>ConvertedComp</th>\n",
       "      <th>Country</th>\n",
       "      <th>CurrencyDesc</th>\n",
       "      <th>...</th>\n",
       "      <th>SurveyEase</th>\n",
       "      <th>SurveyLength</th>\n",
       "      <th>Trans</th>\n",
       "      <th>UndergradMajor</th>\n",
       "      <th>WebframeDesireNextYear</th>\n",
       "      <th>WebframeWorkedWith</th>\n",
       "      <th>WelcomeChange</th>\n",
       "      <th>WorkWeekHrs</th>\n",
       "      <th>YearsCode</th>\n",
       "      <th>YearsCodePro</th>\n",
       "    </tr>\n",
       "  </thead>\n",
       "  <tbody>\n",
       "    <tr>\n",
       "      <th>0</th>\n",
       "      <td>1</td>\n",
       "      <td>I am a developer by profession</td>\n",
       "      <td>Yes</td>\n",
       "      <td>NaN</td>\n",
       "      <td>13</td>\n",
       "      <td>Monthly</td>\n",
       "      <td>NaN</td>\n",
       "      <td>NaN</td>\n",
       "      <td>Germany</td>\n",
       "      <td>European Euro</td>\n",
       "      <td>...</td>\n",
       "      <td>Neither easy nor difficult</td>\n",
       "      <td>Appropriate in length</td>\n",
       "      <td>No</td>\n",
       "      <td>Computer science, computer engineering, or sof...</td>\n",
       "      <td>ASP.NET Core</td>\n",
       "      <td>ASP.NET;ASP.NET Core</td>\n",
       "      <td>Just as welcome now as I felt last year</td>\n",
       "      <td>50.0</td>\n",
       "      <td>36</td>\n",
       "      <td>27</td>\n",
       "    </tr>\n",
       "    <tr>\n",
       "      <th>1</th>\n",
       "      <td>2</td>\n",
       "      <td>I am a developer by profession</td>\n",
       "      <td>No</td>\n",
       "      <td>NaN</td>\n",
       "      <td>19</td>\n",
       "      <td>NaN</td>\n",
       "      <td>NaN</td>\n",
       "      <td>NaN</td>\n",
       "      <td>United Kingdom</td>\n",
       "      <td>Pound sterling</td>\n",
       "      <td>...</td>\n",
       "      <td>NaN</td>\n",
       "      <td>NaN</td>\n",
       "      <td>NaN</td>\n",
       "      <td>Computer science, computer engineering, or sof...</td>\n",
       "      <td>NaN</td>\n",
       "      <td>NaN</td>\n",
       "      <td>Somewhat more welcome now than last year</td>\n",
       "      <td>NaN</td>\n",
       "      <td>7</td>\n",
       "      <td>4</td>\n",
       "    </tr>\n",
       "    <tr>\n",
       "      <th>2</th>\n",
       "      <td>3</td>\n",
       "      <td>I code primarily as a hobby</td>\n",
       "      <td>Yes</td>\n",
       "      <td>NaN</td>\n",
       "      <td>15</td>\n",
       "      <td>NaN</td>\n",
       "      <td>NaN</td>\n",
       "      <td>NaN</td>\n",
       "      <td>Russian Federation</td>\n",
       "      <td>NaN</td>\n",
       "      <td>...</td>\n",
       "      <td>Neither easy nor difficult</td>\n",
       "      <td>Appropriate in length</td>\n",
       "      <td>NaN</td>\n",
       "      <td>NaN</td>\n",
       "      <td>NaN</td>\n",
       "      <td>NaN</td>\n",
       "      <td>Somewhat more welcome now than last year</td>\n",
       "      <td>NaN</td>\n",
       "      <td>4</td>\n",
       "      <td>NaN</td>\n",
       "    </tr>\n",
       "    <tr>\n",
       "      <th>3</th>\n",
       "      <td>4</td>\n",
       "      <td>I am a developer by profession</td>\n",
       "      <td>Yes</td>\n",
       "      <td>25.0</td>\n",
       "      <td>18</td>\n",
       "      <td>NaN</td>\n",
       "      <td>NaN</td>\n",
       "      <td>NaN</td>\n",
       "      <td>Albania</td>\n",
       "      <td>Albanian lek</td>\n",
       "      <td>...</td>\n",
       "      <td>NaN</td>\n",
       "      <td>NaN</td>\n",
       "      <td>No</td>\n",
       "      <td>Computer science, computer engineering, or sof...</td>\n",
       "      <td>NaN</td>\n",
       "      <td>NaN</td>\n",
       "      <td>Somewhat less welcome now than last year</td>\n",
       "      <td>40.0</td>\n",
       "      <td>7</td>\n",
       "      <td>4</td>\n",
       "    </tr>\n",
       "    <tr>\n",
       "      <th>4</th>\n",
       "      <td>5</td>\n",
       "      <td>I used to be a developer by profession, but no...</td>\n",
       "      <td>Yes</td>\n",
       "      <td>31.0</td>\n",
       "      <td>16</td>\n",
       "      <td>NaN</td>\n",
       "      <td>NaN</td>\n",
       "      <td>NaN</td>\n",
       "      <td>United States</td>\n",
       "      <td>NaN</td>\n",
       "      <td>...</td>\n",
       "      <td>Easy</td>\n",
       "      <td>Too short</td>\n",
       "      <td>No</td>\n",
       "      <td>Computer science, computer engineering, or sof...</td>\n",
       "      <td>Django;Ruby on Rails</td>\n",
       "      <td>Ruby on Rails</td>\n",
       "      <td>Just as welcome now as I felt last year</td>\n",
       "      <td>NaN</td>\n",
       "      <td>15</td>\n",
       "      <td>8</td>\n",
       "    </tr>\n",
       "  </tbody>\n",
       "</table>\n",
       "<p>5 rows × 61 columns</p>\n",
       "</div>"
      ],
      "text/plain": [
       "   Respondent                                         MainBranch Hobbyist  \\\n",
       "0           1                     I am a developer by profession      Yes   \n",
       "1           2                     I am a developer by profession       No   \n",
       "2           3                        I code primarily as a hobby      Yes   \n",
       "3           4                     I am a developer by profession      Yes   \n",
       "4           5  I used to be a developer by profession, but no...      Yes   \n",
       "\n",
       "    Age Age1stCode CompFreq  CompTotal  ConvertedComp             Country  \\\n",
       "0   NaN         13  Monthly        NaN            NaN             Germany   \n",
       "1   NaN         19      NaN        NaN            NaN      United Kingdom   \n",
       "2   NaN         15      NaN        NaN            NaN  Russian Federation   \n",
       "3  25.0         18      NaN        NaN            NaN             Albania   \n",
       "4  31.0         16      NaN        NaN            NaN       United States   \n",
       "\n",
       "     CurrencyDesc  ...                  SurveyEase           SurveyLength  \\\n",
       "0   European Euro  ...  Neither easy nor difficult  Appropriate in length   \n",
       "1  Pound sterling  ...                         NaN                    NaN   \n",
       "2             NaN  ...  Neither easy nor difficult  Appropriate in length   \n",
       "3    Albanian lek  ...                         NaN                    NaN   \n",
       "4             NaN  ...                        Easy              Too short   \n",
       "\n",
       "  Trans                                     UndergradMajor  \\\n",
       "0    No  Computer science, computer engineering, or sof...   \n",
       "1   NaN  Computer science, computer engineering, or sof...   \n",
       "2   NaN                                                NaN   \n",
       "3    No  Computer science, computer engineering, or sof...   \n",
       "4    No  Computer science, computer engineering, or sof...   \n",
       "\n",
       "  WebframeDesireNextYear    WebframeWorkedWith  \\\n",
       "0           ASP.NET Core  ASP.NET;ASP.NET Core   \n",
       "1                    NaN                   NaN   \n",
       "2                    NaN                   NaN   \n",
       "3                    NaN                   NaN   \n",
       "4   Django;Ruby on Rails         Ruby on Rails   \n",
       "\n",
       "                              WelcomeChange WorkWeekHrs YearsCode YearsCodePro  \n",
       "0   Just as welcome now as I felt last year        50.0        36           27  \n",
       "1  Somewhat more welcome now than last year         NaN         7            4  \n",
       "2  Somewhat more welcome now than last year         NaN         4          NaN  \n",
       "3  Somewhat less welcome now than last year        40.0         7            4  \n",
       "4   Just as welcome now as I felt last year         NaN        15            8  \n",
       "\n",
       "[5 rows x 61 columns]"
      ]
     },
     "execution_count": 3,
     "metadata": {},
     "output_type": "execute_result"
    }
   ],
   "source": [
    "df = pd.read_csv('../developer_survey_2020/survey_results_public.csv')\n",
    "df.head()"
   ]
  },
  {
   "cell_type": "code",
   "execution_count": 32,
   "metadata": {},
   "outputs": [
    {
     "data": {
      "text/plain": [
       "Index(['Respondent', 'MainBranch', 'Hobbyist', 'Age', 'Age1stCode', 'CompFreq',\n",
       "       'CompTotal', 'ConvertedComp', 'Country', 'CurrencyDesc',\n",
       "       'CurrencySymbol', 'DatabaseDesireNextYear', 'DatabaseWorkedWith',\n",
       "       'DevType', 'EdLevel', 'Employment', 'Ethnicity', 'Gender', 'JobFactors',\n",
       "       'JobSat', 'JobSeek', 'LanguageDesireNextYear', 'LanguageWorkedWith',\n",
       "       'MiscTechDesireNextYear', 'MiscTechWorkedWith',\n",
       "       'NEWCollabToolsDesireNextYear', 'NEWCollabToolsWorkedWith', 'NEWDevOps',\n",
       "       'NEWDevOpsImpt', 'NEWEdImpt', 'NEWJobHunt', 'NEWJobHuntResearch',\n",
       "       'NEWLearn', 'NEWOffTopic', 'NEWOnboardGood', 'NEWOtherComms',\n",
       "       'NEWOvertime', 'NEWPurchaseResearch', 'NEWPurpleLink', 'NEWSOSites',\n",
       "       'NEWStuck', 'OpSys', 'OrgSize', 'PlatformDesireNextYear',\n",
       "       'PlatformWorkedWith', 'PurchaseWhat', 'Sexuality', 'SOAccount',\n",
       "       'SOComm', 'SOPartFreq', 'SOVisitFreq', 'SurveyEase', 'SurveyLength',\n",
       "       'Trans', 'UndergradMajor', 'WebframeDesireNextYear',\n",
       "       'WebframeWorkedWith', 'WelcomeChange', 'WorkWeekHrs', 'YearsCode',\n",
       "       'YearsCodePro'],\n",
       "      dtype='object')"
      ]
     },
     "execution_count": 32,
     "metadata": {},
     "output_type": "execute_result"
    }
   ],
   "source": [
    "df.columns"
   ]
  },
  {
   "cell_type": "code",
   "execution_count": 6,
   "metadata": {},
   "outputs": [
    {
     "name": "stdout",
     "output_type": "stream",
     "text": [
      "64,461 developers participated in the survey\n"
     ]
    }
   ],
   "source": [
    "print(f'{df.shape[0]:,} developers participated in the survey')"
   ]
  },
  {
   "cell_type": "code",
   "execution_count": 5,
   "metadata": {},
   "outputs": [
    {
     "data": {
      "text/plain": [
       "<matplotlib.axes._subplots.AxesSubplot at 0x2526d66fc50>"
      ]
     },
     "execution_count": 5,
     "metadata": {},
     "output_type": "execute_result"
    },
    {
     "data": {
      "image/png": "[encoded data removed]",
      "text/plain": [
       "<Figure size 1080x360 with 1 Axes>"
      ]
     },
     "metadata": {
      "needs_background": "light"
     },
     "output_type": "display_data"
    }
   ],
   "source": [
    "df.Country.value_counts().head(10).plot(kind='bar', figsize=(15,5), title=\"Top 10 participants countries\",rot=0)"
   ]
  },
  {
   "cell_type": "code",
   "execution_count": 19,
   "metadata": {},
   "outputs": [],
   "source": [
    "nig_dev = df.loc[(df['Country'] == 'Nigeria'), df.columns]"
   ]
  },
  {
   "cell_type": "code",
   "execution_count": 20,
   "metadata": {},
   "outputs": [
    {
     "name": "stdout",
     "output_type": "stream",
     "text": [
      "593 nigerian developers participated in the survey\n"
     ]
    }
   ],
   "source": [
    "print(f'{nig_dev.shape[0]:,} nigerian developers participated in the survey')"
   ]
  },
  {
   "cell_type": "code",
   "execution_count": 59,
   "metadata": {},
   "outputs": [
    {
     "name": "stdout",
     "output_type": "stream",
     "text": [
      "Average age at first code is 20\n"
     ]
    }
   ],
   "source": [
    "import math\n",
    "avg = math.ceil(nig_dev['Age1stCode'].astype(float).mean())\n",
    "print(f'Average age at first code is {avg:,}')"
   ]
  },
  {
   "cell_type": "code",
   "execution_count": 53,
   "metadata": {},
   "outputs": [
    {
     "data": {
      "text/plain": [
       "<matplotlib.axes._subplots.AxesSubplot at 0x2526d6a8c50>"
      ]
     },
     "execution_count": 53,
     "metadata": {},
     "output_type": "execute_result"
    },
    {
     "data": {
      "image/png": "[encoded data removed]",
      "text/plain": [
       "<Figure size 1080x360 with 1 Axes>"
      ]
     },
     "metadata": {
      "needs_background": "light"
     },
     "output_type": "display_data"
    }
   ],
   "source": [
    "nig_dev['Employment'].value_counts().sort_values().plot(kind='barh', figsize=(15,5), title=\"Employment types\",rot=0,color='blue')"
   ]
  },
  {
   "cell_type": "code",
   "execution_count": 77,
   "metadata": {},
   "outputs": [
    {
     "data": {
      "text/plain": [
       "Man                                                  408\n",
       "NaN                                                  151\n",
       "Woman                                                 31\n",
       "Woman;Man                                              2\n",
       "Non-binary, genderqueer, or gender non-conforming      1\n",
       "Name: Gender, dtype: int64"
      ]
     },
     "execution_count": 77,
     "metadata": {},
     "output_type": "execute_result"
    }
   ],
   "source": [
    "nig_dev_gender = nig_dev.Gender.value_counts(dropna=False)\n",
    "nig_dev_gender"
   ]
  },
  {
   "cell_type": "code",
   "execution_count": 80,
   "metadata": {},
   "outputs": [
    {
     "name": "stdout",
     "output_type": "stream",
     "text": [
      "There are 0 males, 0 females and 5 other genders\n"
     ]
    }
   ],
   "source": [
    "male, female, others = 0,0,0\n",
    "for line in nig_dev_gender:\n",
    "    if line == 'Woman':\n",
    "        female += 1\n",
    "    elif line == 'Man':\n",
    "        male += 1\n",
    "    else:\n",
    "        others += 1\n",
    "print(f\"There are {male} males, {female} females and {others} other genders\")"
   ]
  },
  {
   "cell_type": "code",
   "execution_count": 68,
   "metadata": {},
   "outputs": [
    {
     "data": {
      "text/plain": [
       "<matplotlib.axes._subplots.AxesSubplot at 0x2526dc18160>"
      ]
     },
     "execution_count": 68,
     "metadata": {},
     "output_type": "execute_result"
    },
    {
     "data": {
      "image/png": "[encoded data removed]",
      "text/plain": [
       "<Figure size 864x360 with 1 Axes>"
      ]
     },
     "metadata": {
      "needs_background": "light"
     },
     "output_type": "display_data"
    }
   ],
   "source": [
    "nig_dev['UndergradMajor'].value_counts().sort_values().plot(kind='barh', figsize=(12,5), title=\"Undergrad major\",rot=0,color='green')"
   ]
  },
  {
   "cell_type": "code",
   "execution_count": 83,
   "metadata": {
    "collapsed": true,
    "jupyter": {
     "outputs_hidden": true
    }
   },
   "outputs": [
    {
     "data": {
      "text/plain": [
       "HTML/CSS;JavaScript                                                        36\n",
       "HTML/CSS;JavaScript;PHP;SQL                                                28\n",
       "HTML/CSS;JavaScript;PHP                                                    16\n",
       "HTML/CSS;JavaScript;TypeScript                                             14\n",
       "Python                                                                     13\n",
       "HTML/CSS                                                                   12\n",
       "HTML/CSS;JavaScript;Python                                                 10\n",
       "Java                                                                        9\n",
       "HTML/CSS;Python                                                             8\n",
       "HTML/CSS;Java;JavaScript;PHP;SQL                                            8\n",
       "HTML/CSS;JavaScript;PHP;Python                                              6\n",
       "HTML/CSS;Java;JavaScript;Python                                             6\n",
       "C#;HTML/CSS;JavaScript;SQL                                                  5\n",
       "HTML/CSS;JavaScript;SQL                                                     5\n",
       "HTML/CSS;JavaScript;Python;SQL                                              5\n",
       "HTML/CSS;JavaScript;PHP;Python;SQL                                          5\n",
       "C#                                                                          5\n",
       "HTML/CSS;Java;JavaScript;PHP;Python;SQL                                     5\n",
       "Bash/Shell/PowerShell;HTML/CSS;JavaScript;PHP;SQL                           4\n",
       "HTML/CSS;Python;SQL                                                         4\n",
       "HTML/CSS;PHP;SQL                                                            4\n",
       "C#;HTML/CSS;Java;JavaScript;PHP;SQL                                         4\n",
       "HTML/CSS;JavaScript;PHP;SQL;TypeScript                                      4\n",
       "Java;JavaScript;PHP;SQL                                                     4\n",
       "C#;HTML/CSS;JavaScript;PHP;SQL                                              4\n",
       "HTML/CSS;JavaScript;PHP;TypeScript                                          3\n",
       "HTML/CSS;PHP                                                                3\n",
       "C++                                                                         3\n",
       "HTML/CSS;JavaScript;PHP;Python;TypeScript                                   3\n",
       "C#;HTML/CSS;SQL                                                             3\n",
       "                                                                           ..\n",
       "Bash/Shell/PowerShell;C#;Dart;Go;HTML/CSS;JavaScript;Python;SQL             1\n",
       "Go;HTML/CSS;JavaScript;PHP                                                  1\n",
       "Assembly;C;C#;C++;Dart;HTML/CSS;Java;JavaScript;Ruby;SQL                    1\n",
       "Bash/Shell/PowerShell;Dart;Go;JavaScript;SQL;TypeScript                     1\n",
       "Assembly;C++;Java                                                           1\n",
       "Java;JavaScript;PHP;SQL;TypeScript                                          1\n",
       "C;C#;C++;HTML/CSS;Java;JavaScript;PHP;R;SQL                                 1\n",
       "HTML/CSS;JavaScript;PHP;Ruby                                                1\n",
       "HTML/CSS;Java;JavaScript;PHP;SQL;VBA                                        1\n",
       "C;C++;Dart;Python                                                           1\n",
       "HTML/CSS;JavaScript;Kotlin;Python;SQL                                       1\n",
       "HTML/CSS;JavaScript;Python;Ruby;SQL;TypeScript                              1\n",
       "C++;HTML/CSS;JavaScript;Python                                              1\n",
       "C#;SQL                                                                      1\n",
       "C;HTML/CSS;JavaScript;Python;SQL                                            1\n",
       "C#;Dart;HTML/CSS;JavaScript;Python                                          1\n",
       "Dart;HTML/CSS;Java;JavaScript;PHP;SQL                                       1\n",
       "Bash/Shell/PowerShell;JavaScript;Python                                     1\n",
       "HTML/CSS;Java;PHP;Python                                                    1\n",
       "C++;HTML/CSS;Java;JavaScript;PHP;SQL;VBA                                    1\n",
       "C#;Java;JavaScript;SQL                                                      1\n",
       "HTML/CSS;JavaScript;Python;Rust;TypeScript                                  1\n",
       "Assembly;C;C++;Dart;HTML/CSS;Java;JavaScript;Kotlin;Perl;PHP;Python;SQL     1\n",
       "Bash/Shell/PowerShell;HTML/CSS;Python                                       1\n",
       "Bash/Shell/PowerShell;HTML/CSS;JavaScript;PHP                               1\n",
       "Dart;HTML/CSS;PHP;SQL                                                       1\n",
       "Assembly;HTML/CSS;JavaScript                                                1\n",
       "C#;Dart;Java;JavaScript;Python                                              1\n",
       "Java;PHP                                                                    1\n",
       "C#;HTML/CSS;Java;JavaScript;PHP;SQL;TypeScript                              1\n",
       "Name: LanguageWorkedWith, Length: 270, dtype: int64"
      ]
     },
     "execution_count": 83,
     "metadata": {},
     "output_type": "execute_result"
    }
   ],
   "source": [
    "nig_dev['LanguageWorkedWith'].value_counts()"
   ]
  },
  {
   "cell_type": "code",
   "execution_count": 91,
   "metadata": {},
   "outputs": [
    {
     "data": {
      "text/plain": [
       "0"
      ]
     },
     "execution_count": 91,
     "metadata": {},
     "output_type": "execute_result"
    }
   ],
   "source": [
    "Nig_lang_resp = nig_dev['LanguageWorkedWith']\n",
    "Nig_lang_resp.fillna(value = 'No Resp', inplace=True)\n",
    "Nig_lang_resp.isnull().sum()"
   ]
  },
  {
   "cell_type": "code",
   "execution_count": 92,
   "metadata": {},
   "outputs": [
    {
     "data": {
      "text/plain": [
       "pandas.core.series.Series"
      ]
     },
     "execution_count": 92,
     "metadata": {},
     "output_type": "execute_result"
    }
   ],
   "source": [
    "type(nig_dev['LanguageWorkedWith'].str.split(';'))"
   ]
  },
  {
   "cell_type": "code",
   "execution_count": 118,
   "metadata": {
    "collapsed": true,
    "jupyter": {
     "outputs_hidden": true
    }
   },
   "outputs": [
    {
     "data": {
      "text/plain": [
       "252                           [C#, JavaScript, TypeScript]\n",
       "958      [Bash/Shell/PowerShell, C, C#, C++, HTML/CSS, ...\n",
       "1610      [C++, HTML/CSS, Java, JavaScript, PHP, SQL, VBA]\n",
       "2754                        [HTML/CSS, JavaScript, Python]\n",
       "3032     [HTML/CSS, JavaScript, Python, Ruby, SQL, Type...\n",
       "4001                       [JavaScript, Swift, TypeScript]\n",
       "4819                                    [HTML/CSS, Python]\n",
       "5516                  [C#, HTML/CSS, JavaScript, PHP, SQL]\n",
       "5679                                             [No Resp]\n",
       "5882                                [HTML/CSS, JavaScript]\n",
       "6381       [HTML/CSS, JavaScript, Python, SQL, TypeScript]\n",
       "6500                      [Go, HTML/CSS, JavaScript, Rust]\n",
       "7204           [HTML/CSS, Java, JavaScript, PHP, SQL, VBA]\n",
       "7273                                             [No Resp]\n",
       "7824       [HTML/CSS, JavaScript, PHP, Python, TypeScript]\n",
       "7973                         [C#, JavaScript, Python, SQL]\n",
       "8643                              [JavaScript, TypeScript]\n",
       "8675                [HTML/CSS, Java, JavaScript, PHP, SQL]\n",
       "8883                      [HTML/CSS, JavaScript, PHP, SQL]\n",
       "9092                         [HTML/CSS, Java, PHP, Python]\n",
       "9196                           [HTML/CSS, JavaScript, PHP]\n",
       "9227                                 [Java, Kotlin, Swift]\n",
       "10051    [Assembly, HTML/CSS, Java, JavaScript, Python,...\n",
       "11201                                      [HTML/CSS, PHP]\n",
       "11368                                        [C++, Python]\n",
       "11401                                                  [R]\n",
       "11549                               [HTML/CSS, JavaScript]\n",
       "11570                                 [HTML/CSS, PHP, SQL]\n",
       "11680                               [HTML/CSS, JavaScript]\n",
       "11828     [C, C#, C++, HTML/CSS, Java, JavaScript, Python]\n",
       "                               ...                        \n",
       "63228                                            [No Resp]\n",
       "63276                                       [Java, Python]\n",
       "63284                                            [No Resp]\n",
       "63297                                            [No Resp]\n",
       "63335                   [HTML/CSS, Java, PHP, Python, SQL]\n",
       "63370                                            [No Resp]\n",
       "63382               [Dart, HTML/CSS, JavaScript, PHP, SQL]\n",
       "63403                                            [No Resp]\n",
       "63428                                           [HTML/CSS]\n",
       "63435                                            [No Resp]\n",
       "63456                                            [No Resp]\n",
       "63473                                            [No Resp]\n",
       "63493                 [HTML/CSS, Java, JavaScript, Python]\n",
       "63526                                            [No Resp]\n",
       "63536                                                  [C]\n",
       "63612                                             [Python]\n",
       "63706                                            [No Resp]\n",
       "63756                                            [No Resp]\n",
       "63767                                             [Python]\n",
       "63774                                      [HTML/CSS, PHP]\n",
       "63817    [HTML/CSS, Java, JavaScript, Kotlin, Python, SQL]\n",
       "63897                          [HTML/CSS, JavaScript, PHP]\n",
       "63970                                         [JavaScript]\n",
       "64009                                            [No Resp]\n",
       "64043                                            [No Resp]\n",
       "64082                                       [C#, C++, SQL]\n",
       "64119                                            [No Resp]\n",
       "64142              [HTML/CSS, JavaScript, PHP, TypeScript]\n",
       "64143                                            [No Resp]\n",
       "64342             [Assembly, Bash/Shell/PowerShell, Swift]\n",
       "Name: LanguageWorkedWith, Length: 593, dtype: object"
      ]
     },
     "execution_count": 118,
     "metadata": {},
     "output_type": "execute_result"
    }
   ],
   "source": [
    "Lang_split = Nig_lang_resp.str.split(';')\n",
    "Lang_split"
   ]
  },
  {
   "cell_type": "code",
   "execution_count": 115,
   "metadata": {},
   "outputs": [],
   "source": [
    "import collections\n",
    "from collections import Counter"
   ]
  },
  {
   "cell_type": "code",
   "execution_count": 134,
   "metadata": {},
   "outputs": [
    {
     "data": {
      "text/html": [
       "<div>\n",
       "<style scoped>\n",
       "    .dataframe tbody tr th:only-of-type {\n",
       "        vertical-align: middle;\n",
       "    }\n",
       "\n",
       "    .dataframe tbody tr th {\n",
       "        vertical-align: top;\n",
       "    }\n",
       "\n",
       "    .dataframe thead th {\n",
       "        text-align: right;\n",
       "    }\n",
       "</style>\n",
       "<table border=\"1\" class=\"dataframe\">\n",
       "  <thead>\n",
       "    <tr style=\"text-align: right;\">\n",
       "      <th></th>\n",
       "      <th>Languages</th>\n",
       "      <th>Count</th>\n",
       "    </tr>\n",
       "  </thead>\n",
       "  <tbody>\n",
       "    <tr>\n",
       "      <th>0</th>\n",
       "      <td>HTML/CSS</td>\n",
       "      <td>395</td>\n",
       "    </tr>\n",
       "    <tr>\n",
       "      <th>1</th>\n",
       "      <td>JavaScript</td>\n",
       "      <td>366</td>\n",
       "    </tr>\n",
       "    <tr>\n",
       "      <th>2</th>\n",
       "      <td>SQL</td>\n",
       "      <td>242</td>\n",
       "    </tr>\n",
       "    <tr>\n",
       "      <th>3</th>\n",
       "      <td>PHP</td>\n",
       "      <td>218</td>\n",
       "    </tr>\n",
       "    <tr>\n",
       "      <th>4</th>\n",
       "      <td>Python</td>\n",
       "      <td>192</td>\n",
       "    </tr>\n",
       "    <tr>\n",
       "      <th>5</th>\n",
       "      <td>Java</td>\n",
       "      <td>174</td>\n",
       "    </tr>\n",
       "    <tr>\n",
       "      <th>6</th>\n",
       "      <td>C#</td>\n",
       "      <td>100</td>\n",
       "    </tr>\n",
       "    <tr>\n",
       "      <th>7</th>\n",
       "      <td>No Resp</td>\n",
       "      <td>87</td>\n",
       "    </tr>\n",
       "    <tr>\n",
       "      <th>8</th>\n",
       "      <td>TypeScript</td>\n",
       "      <td>86</td>\n",
       "    </tr>\n",
       "    <tr>\n",
       "      <th>9</th>\n",
       "      <td>C++</td>\n",
       "      <td>74</td>\n",
       "    </tr>\n",
       "  </tbody>\n",
       "</table>\n",
       "</div>"
      ],
      "text/plain": [
       "    Languages  Count\n",
       "0    HTML/CSS    395\n",
       "1  JavaScript    366\n",
       "2         SQL    242\n",
       "3         PHP    218\n",
       "4      Python    192\n",
       "5        Java    174\n",
       "6          C#    100\n",
       "7     No Resp     87\n",
       "8  TypeScript     86\n",
       "9         C++     74"
      ]
     },
     "execution_count": 134,
     "metadata": {},
     "output_type": "execute_result"
    }
   ],
   "source": [
    "all_lang_resp=[]\n",
    "for i, value in enumerate(Lang_split):\n",
    "    all_lang_resp.extend(value)\n",
    "\n",
    "counts = Counter(all_lang_resp)\n",
    "counts = pd.DataFrame(counts, index=['No of users'])\n",
    "counts = counts.transpose().sort_values('No of users', ascending=False)\n",
    "top_10 = counts.head(10).reset_index()\n",
    "top_10.columns =['Languages','Count']\n",
    "top_10"
   ]
  },
  {
   "cell_type": "code",
   "execution_count": 170,
   "metadata": {},
   "outputs": [
    {
     "data": {
      "text/plain": [
       "array(['3', '12', '2', '5', '6', '8', 'Less than 1 year', '7', nan, '1',\n",
       "       '15', '9', '20', '10', '4', '13', '17', '11', '14', '16', '18',\n",
       "       '26', '23', '37'], dtype=object)"
      ]
     },
     "execution_count": 170,
     "metadata": {},
     "output_type": "execute_result"
    }
   ],
   "source": [
    "avg = nig_dev['YearsCode']\n",
    "avg.unique()"
   ]
  },
  {
   "cell_type": "code",
   "execution_count": 177,
   "metadata": {},
   "outputs": [],
   "source": [
    "avg = avg.replace('Less than 1 year',1)"
   ]
  },
  {
   "cell_type": "code",
   "execution_count": 178,
   "metadata": {},
   "outputs": [
    {
     "data": {
      "text/plain": [
       "3.0     81\n",
       "2.0     71\n",
       "1.0     60\n",
       "5.0     56\n",
       "4.0     49\n",
       "6.0     38\n",
       "8.0     34\n",
       "10.0    27\n",
       "7.0     26\n",
       "9.0     20\n",
       "11.0    11\n",
       "12.0     8\n",
       "20.0     5\n",
       "15.0     4\n",
       "14.0     4\n",
       "23.0     3\n",
       "13.0     3\n",
       "18.0     3\n",
       "17.0     1\n",
       "16.0     1\n",
       "26.0     1\n",
       "37.0     1\n",
       "Name: YearsCode, dtype: int64"
      ]
     },
     "execution_count": 178,
     "metadata": {},
     "output_type": "execute_result"
    }
   ],
   "source": [
    "avg.value_counts()"
   ]
  },
  {
   "cell_type": "code",
   "execution_count": 176,
   "metadata": {},
   "outputs": [
    {
     "data": {
      "text/plain": [
       "5.4"
      ]
     },
     "execution_count": 176,
     "metadata": {},
     "output_type": "execute_result"
    }
   ],
   "source": [
    "avg_age= round(avg.mean(),1)\n",
    "avg_age"
   ]
  },
  {
   "cell_type": "code",
   "execution_count": 183,
   "metadata": {},
   "outputs": [
    {
     "data": {
      "text/html": [
       "<div>\n",
       "<style scoped>\n",
       "    .dataframe tbody tr th:only-of-type {\n",
       "        vertical-align: middle;\n",
       "    }\n",
       "\n",
       "    .dataframe tbody tr th {\n",
       "        vertical-align: top;\n",
       "    }\n",
       "\n",
       "    .dataframe thead th {\n",
       "        text-align: right;\n",
       "    }\n",
       "</style>\n",
       "<table border=\"1\" class=\"dataframe\">\n",
       "  <thead>\n",
       "    <tr style=\"text-align: right;\">\n",
       "      <th></th>\n",
       "      <th>Respondent</th>\n",
       "      <th>MainBranch</th>\n",
       "      <th>Hobbyist</th>\n",
       "      <th>Age</th>\n",
       "      <th>Age1stCode</th>\n",
       "      <th>CompFreq</th>\n",
       "      <th>CompTotal</th>\n",
       "      <th>ConvertedComp</th>\n",
       "      <th>Country</th>\n",
       "      <th>CurrencyDesc</th>\n",
       "      <th>...</th>\n",
       "      <th>SurveyEase</th>\n",
       "      <th>SurveyLength</th>\n",
       "      <th>Trans</th>\n",
       "      <th>UndergradMajor</th>\n",
       "      <th>WebframeDesireNextYear</th>\n",
       "      <th>WebframeWorkedWith</th>\n",
       "      <th>WelcomeChange</th>\n",
       "      <th>WorkWeekHrs</th>\n",
       "      <th>YearsCode</th>\n",
       "      <th>YearsCodePro</th>\n",
       "    </tr>\n",
       "  </thead>\n",
       "  <tbody>\n",
       "    <tr>\n",
       "      <th>49392</th>\n",
       "      <td>50414</td>\n",
       "      <td>I am a developer by profession</td>\n",
       "      <td>Yes</td>\n",
       "      <td>23.0</td>\n",
       "      <td>21</td>\n",
       "      <td>Monthly</td>\n",
       "      <td>210000.0</td>\n",
       "      <td>6912.0</td>\n",
       "      <td>Nigeria</td>\n",
       "      <td>Nigerian naira</td>\n",
       "      <td>...</td>\n",
       "      <td>Easy</td>\n",
       "      <td>Appropriate in length</td>\n",
       "      <td>No</td>\n",
       "      <td>Mathematics or statistics</td>\n",
       "      <td>Gatsby;Ruby on Rails</td>\n",
       "      <td>Express;Flask;React.js</td>\n",
       "      <td>A lot more welcome now than last year</td>\n",
       "      <td>40.0</td>\n",
       "      <td>2</td>\n",
       "      <td>1</td>\n",
       "    </tr>\n",
       "  </tbody>\n",
       "</table>\n",
       "<p>1 rows × 61 columns</p>\n",
       "</div>"
      ],
      "text/plain": [
       "       Respondent                      MainBranch Hobbyist   Age Age1stCode  \\\n",
       "49392       50414  I am a developer by profession      Yes  23.0         21   \n",
       "\n",
       "      CompFreq  CompTotal  ConvertedComp  Country    CurrencyDesc  ...  \\\n",
       "49392  Monthly   210000.0         6912.0  Nigeria  Nigerian naira  ...   \n",
       "\n",
       "      SurveyEase           SurveyLength Trans             UndergradMajor  \\\n",
       "49392       Easy  Appropriate in length    No  Mathematics or statistics   \n",
       "\n",
       "      WebframeDesireNextYear      WebframeWorkedWith  \\\n",
       "49392   Gatsby;Ruby on Rails  Express;Flask;React.js   \n",
       "\n",
       "                               WelcomeChange WorkWeekHrs YearsCode  \\\n",
       "49392  A lot more welcome now than last year        40.0         2   \n",
       "\n",
       "      YearsCodePro  \n",
       "49392            1  \n",
       "\n",
       "[1 rows x 61 columns]"
      ]
     },
     "execution_count": 183,
     "metadata": {},
     "output_type": "execute_result"
    }
   ],
   "source": [
    "nig_dev[(nig_dev['Gender'] == 'Woman') & (nig_dev['Age'] < 25) & (nig_dev['CompTotal'] > 0)]"
   ]
  },
  {
   "cell_type": "code",
   "execution_count": null,
   "metadata": {},
   "outputs": [],
   "source": []
  }
 ],
 "metadata": {
  "kernelspec": {
   "display_name": "Python 3",
   "language": "python",
   "name": "python3"
  },
  "language_info": {
   "codemirror_mode": {
    "name": "ipython",
    "version": 3
   },
   "file_extension": ".py",
   "mimetype": "text/x-python",
   "name": "python",
   "nbconvert_exporter": "python",
   "pygments_lexer": "ipython3",
   "version": "3.7.3"
  }
 },
 "nbformat": 4,
 "nbformat_minor": 4
}
